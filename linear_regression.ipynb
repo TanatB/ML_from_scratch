{
 "cells": [
  {
   "cell_type": "markdown",
   "metadata": {},
   "source": [
    "# Linear Regression from scratch\n",
    "by Tanat Metmaolee"
   ]
  },
  {
   "cell_type": "markdown",
   "metadata": {},
   "source": [
    "## Import"
   ]
  },
  {
   "cell_type": "markdown",
   "metadata": {},
   "source": [
    "Can only use pandas, matplotlib (or seaborn) and NumPy (optional)"
   ]
  },
  {
   "cell_type": "code",
   "execution_count": 7,
   "metadata": {},
   "outputs": [],
   "source": [
    "import pandas as pd\n",
    "# Optional\n",
    "import numpy as np\n",
    "# Visualization\n",
    "import matplotlib.pyplot as plt\n",
    "import seaborn as sns\n",
    "# For Dataset & Train, Test\n",
    "from sklearn.model_selection import train_test_split\n",
    "from sklearn import datasets"
   ]
  },
  {
   "cell_type": "markdown",
   "metadata": {},
   "source": [
    "## Datasets"
   ]
  },
  {
   "cell_type": "code",
   "execution_count": 8,
   "metadata": {},
   "outputs": [
    {
     "name": "stdout",
     "output_type": "stream",
     "text": [
      "Dataset URL: https://www.kaggle.com/datasets/iamsouravbanerjee/house-rent-prediction-dataset\n"
     ]
    }
   ],
   "source": [
    "import kaggle\n",
    "\n",
    "kaggle.api.authenticate()\n",
    "\n",
    "kaggle.api.dataset_download_files('iamsouravbanerjee/house-rent-prediction-dataset', path='./datasets', unzip=True)"
   ]
  },
  {
   "cell_type": "markdown",
   "metadata": {},
   "source": [
    "## Hyperparameters\n",
    "- `w` = Weight\n",
    "- `b` = Bias\n",
    "- `L` = Learning Rate\n",
    "- `epochs` = Number of epochs"
   ]
  },
  {
   "cell_type": "code",
   "execution_count": 9,
   "metadata": {},
   "outputs": [],
   "source": [
    "w = 0\n",
    "b = 0\n",
    "L = 0.0001\n",
    "epochs = 1000"
   ]
  },
  {
   "cell_type": "markdown",
   "metadata": {},
   "source": [
    "## Linear Regression Class"
   ]
  },
  {
   "cell_type": "markdown",
   "metadata": {},
   "source": [
    "$f(x) = wx + b$\n",
    "1. Initalize Hyperparameters\n",
    "2. Calculate Loss function\n",
    "3. Use Gradient Descent along with Early Stopping\n",
    "4. Adjust W and B to minimize the loss\n",
    "5. Visualize the graph using Pyplot"
   ]
  },
  {
   "cell_type": "code",
   "execution_count": 27,
   "metadata": {},
   "outputs": [],
   "source": [
    "class LinearRegression:\n",
    "\n",
    "    def __init__(self, learning_rate, epochs, tolerance=1e-6):\n",
    "        self.learning_rate = learning_rate\n",
    "        self.epochs = epochs\n",
    "        self.torelance = tolerance\n",
    "        self.w = []\n",
    "        self.b = 0\n",
    "        \n",
    "    def _initialize_parameters(self, n_features: int):\n",
    "        \"\"\"\n",
    "        Initialize function for models with more than 1 feature.\n",
    "        \n",
    "        Args:\n",
    "            n_features (int): number of features.\n",
    "        \"\"\"\n",
    "        self.w = [0] * n_features\n",
    "        \n",
    "    # Prediction\n",
    "    def predict(self, X):\n",
    "        \"\"\"\n",
    "        Forward Propagation (Or final prediction) with the current weight/bias\n",
    "        \n",
    "        Args:\n",
    "            X (list): List of feature\n",
    "\n",
    "        Returns:\n",
    "            prediction: List of prediction values.\n",
    "        \"\"\"\n",
    "        predictions = [sum(self.w[j] * x[j] for j in range(len(self.w))) + self.b for x in X]\n",
    "        \n",
    "        return predictions\n",
    "        \n",
    "    def _cost_function(self, X, y):\n",
    "        \"\"\"\n",
    "        Mean Square Error.\n",
    "        \n",
    "        Args:\n",
    "            X (list): List of feature values\n",
    "            y (list): List of Output values\n",
    "\n",
    "        Returns:\n",
    "            float: Mean Squared Error\n",
    "        \"\"\"\n",
    "        predictions = self.predict(X)\n",
    "        n = len(y)\n",
    "        square_loss = sum((y[i] - predictions[i]) ** 2 for i in range(n))\n",
    "        \n",
    "        return square_loss / n\n",
    "    \n",
    "    def _back_propagation(self, X, y):\n",
    "        \"\"\"\n",
    "        Back Propagation function used for calculating gradient of weight & bias.\n",
    "\n",
    "        Args:\n",
    "            X (list): List of feature values\n",
    "            y (list): List of Output values\n",
    "\n",
    "        Returns:\n",
    "            float, float: Derivative of Weight and Bias\n",
    "        \"\"\"\n",
    "        n_samples = len(y)\n",
    "        n_features = len(X[0])\n",
    "        predictions = self.predict(X)\n",
    "        \n",
    "        dw, db = [0] * n_features, 0\n",
    "        \n",
    "        for i in range(n_samples):\n",
    "            error = y[i] - predictions[i]\n",
    "            for j in range(n_features):\n",
    "                dw[j] += - (2 / n_samples) * error * X[i][j]\n",
    "            db += - (2 / n_samples) * error\n",
    "        \n",
    "        return dw, db\n",
    "    \n",
    "    def _gradient_descent(self, X, y, epochs):\n",
    "        \"\"\"\n",
    "        Gradient Descent Technique\n",
    "\n",
    "        Args:\n",
    "            dw (float): Derivative of Weight\n",
    "            db (float): Derivative of Bias\n",
    "            L (float): Learning Rate\n",
    "        \"\"\"\n",
    "        \n",
    "        previous_loss = float(\"inf\")\n",
    "        \n",
    "        for epoch in range(epochs):\n",
    "            dw, db = self._back_propagation(X, y)\n",
    "            \n",
    "            self.w = [self.w[j] - self.learning_rate * dw[j] for j in range(len(self.w))]\n",
    "            self.b -= self.learning_rate * db\n",
    "            \n",
    "            current_loss = self._cost_function(X, y)\n",
    "            \n",
    "            if abs(previous_loss - current_loss) < self.torelance:\n",
    "                print(f\"Early Stopping done at epoch: {epoch}.\")\n",
    "                break\n",
    "            \n",
    "            previous_loss = current_loss\n",
    "    \n",
    "    def fit(self, X, y):\n",
    "        \"\"\"\n",
    "        Fit the prediction and compare it with training data\n",
    "\n",
    "        Args:\n",
    "            X (list): List of feature values\n",
    "            y (list): List of Output values\n",
    "\n",
    "        Returns:\n",
    "            _type_: _description_\n",
    "        \"\"\"\n",
    "        n_features = len(X[0])\n",
    "        self._initialize_parameters(n_features)\n",
    "        \n",
    "        self._gradient_descent(X, y, self.epochs)\n",
    "        \n",
    "        return self"
   ]
  },
  {
   "cell_type": "markdown",
   "metadata": {},
   "source": [
    "## MAIN"
   ]
  },
  {
   "cell_type": "markdown",
   "metadata": {},
   "source": [
    "### Import Dataset\n",
    "\n",
    "We're gonna test the model with in-built dataset first, \n",
    "\n",
    "so we don't have to deal with data cleaning and preprocessing"
   ]
  },
  {
   "cell_type": "code",
   "execution_count": 11,
   "metadata": {},
   "outputs": [
    {
     "data": {
      "image/png": "[encoded data removed]",
      "text/plain": [
       "<Figure size 800x600 with 1 Axes>"
      ]
     },
     "metadata": {},
     "output_type": "display_data"
    }
   ],
   "source": [
    "X, y = datasets.make_regression(n_samples=100, n_features=1, noise=20, random_state=44)\n",
    "X_train, X_test, y_train, y_test = train_test_split(X, y, test_size=0.2, random_state=50)\n",
    "\n",
    "fig = plt.figure(figsize=(8,6))\n",
    "plt.scatter(X[:, 0], y, color=\"b\", marker=\"o\", s=30)\n",
    "plt.show()"
   ]
  },
  {
   "cell_type": "code",
   "execution_count": 12,
   "metadata": {},
   "outputs": [
    {
     "data": {
      "text/plain": [
       "numpy.ndarray"
      ]
     },
     "execution_count": 12,
     "metadata": {},
     "output_type": "execute_result"
    }
   ],
   "source": [
    "type(X)"
   ]
  },
  {
   "cell_type": "code",
   "execution_count": 24,
   "metadata": {},
   "outputs": [
    {
     "name": "stdout",
     "output_type": "stream",
     "text": [
      "Early Stopping done at epoch: 462.\n"
     ]
    },
    {
     "data": {
      "text/plain": [
       "<__main__.LinearRegression at 0x1978f844680>"
      ]
     },
     "execution_count": 24,
     "metadata": {},
     "output_type": "execute_result"
    }
   ],
   "source": [
    "model = LinearRegression(learning_rate=0.01, epochs=1000)\n",
    "model.fit(X,y)"
   ]
  },
  {
   "cell_type": "code",
   "execution_count": 26,
   "metadata": {},
   "outputs": [
    {
     "data": {
      "image/png": "[encoded data removed]",
      "text/plain": [
       "<Figure size 1000x600 with 1 Axes>"
      ]
     },
     "metadata": {},
     "output_type": "display_data"
    }
   ],
   "source": [
    "X_flat = [x[0] for x in X] \n",
    "predictions = model.predict(X)\n",
    "\n",
    "plt.figure(figsize=(10, 6))\n",
    "sns.scatterplot(x=X_flat, y=y, color='blue', label='Original Data')  # Scatter plot of actual data\n",
    "sns.lineplot(x=X_flat, y=predictions, color='red', label='Regression Line')  # Regression line\n",
    "plt.title(\"Linear Regression Fit\", fontsize=16)\n",
    "plt.xlabel(\"Feature (X)\", fontsize=14)\n",
    "plt.ylabel(\"Target (y)\", fontsize=14)\n",
    "plt.legend(fontsize=12)\n",
    "plt.grid(True)\n",
    "plt.show()"
   ]
  },
  {
   "cell_type": "markdown",
   "metadata": {},
   "source": [
    "### Real-time Linear Regression Fit"
   ]
  },
  {
   "cell_type": "code",
   "execution_count": null,
   "metadata": {},
   "outputs": [],
   "source": []
  },
  {
   "cell_type": "markdown",
   "metadata": {},
   "source": [
    "### Loss visualization"
   ]
  },
  {
   "cell_type": "code",
   "execution_count": null,
   "metadata": {},
   "outputs": [],
   "source": []
  },
  {
   "cell_type": "markdown",
   "metadata": {},
   "source": [
    "### Train Test Split use case"
   ]
  },
  {
   "cell_type": "code",
   "execution_count": null,
   "metadata": {},
   "outputs": [],
   "source": []
  },
  {
   "cell_type": "markdown",
   "metadata": {},
   "source": [
    "### Real World Dataset Challenge"
   ]
  },
  {
   "cell_type": "code",
   "execution_count": null,
   "metadata": {},
   "outputs": [],
   "source": []
  }
 ],
 "metadata": {
  "kernelspec": {
   "display_name": "kaggle_projects_01",
   "language": "python",
   "name": "python3"
  },
  "language_info": {
   "codemirror_mode": {
    "name": "ipython",
    "version": 3
   },
   "file_extension": ".py",
   "mimetype": "text/x-python",
   "name": "python",
   "nbconvert_exporter": "python",
   "pygments_lexer": "ipython3",
   "version": "3.12.4"
  }
 },
 "nbformat": 4,
 "nbformat_minor": 2
}
