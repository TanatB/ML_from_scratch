{
 "cells": [
  {
   "cell_type": "markdown",
   "metadata": {},
   "source": [
    "# Logistics Regression from scratch\n",
    "Python based\n",
    "\n",
    "by Tanat Metmaolee"
   ]
  },
  {
   "cell_type": "markdown",
   "metadata": {},
   "source": [
    "### Import"
   ]
  },
  {
   "cell_type": "code",
   "execution_count": 1,
   "metadata": {},
   "outputs": [],
   "source": [
    "import pandas as pd\n",
    "import numpy as np\n",
    "import matplotlib.pyplot as plt\n",
    "import seaborn as sns\n",
    "# For Dataset & Train, Test\n",
    "from sklearn.datasets import make_classification\n",
    "from sklearn.model_selection import train_test_split\n",
    "from sklearn.metrics import accuracy_score"
   ]
  },
  {
   "cell_type": "markdown",
   "metadata": {},
   "source": [
    "## Base Knowledge"
   ]
  },
  {
   "cell_type": "markdown",
   "metadata": {},
   "source": [
    "### Type of Logistic Regression\n",
    "1. Binomial\n",
    "2. Multinomial\n",
    "3. Ordinal"
   ]
  },
  {
   "cell_type": "markdown",
   "metadata": {},
   "source": [
    "### Hyperparameters\n",
    "- `w` = Weight\n",
    "- `b` = Bias\n",
    "- `L` = Learning Rate\n",
    "- `epochs` = Number of epochs"
   ]
  },
  {
   "cell_type": "code",
   "execution_count": 2,
   "metadata": {},
   "outputs": [],
   "source": [
    "w = 0\n",
    "b = 0\n",
    "L = 0.01\n",
    "epochs = 1000"
   ]
  },
  {
   "cell_type": "markdown",
   "metadata": {},
   "source": [
    "### Sigmoid Function\n",
    "\n",
    "$\\sigma(z) = \\frac{1}{1+e^{-z}}$\n",
    "​\n",
    "\n",
    "while $ z = w_{i} x_{i} + ... + w_{1} x_{1} + b $\n",
    "\n",
    ", $i$ stands for the number of features in the dataset.\n"
   ]
  },
  {
   "cell_type": "markdown",
   "metadata": {},
   "source": [
    "### Confusion Matrix"
   ]
  },
  {
   "cell_type": "markdown",
   "metadata": {},
   "source": [
    "## Implementation"
   ]
  },
  {
   "cell_type": "code",
   "execution_count": 3,
   "metadata": {},
   "outputs": [],
   "source": [
    "class LogisticRegression():\n",
    "    def __init__(self, learning_rate, epochs):\n",
    "        self.learning_rate = learning_rate\n",
    "        self.epochs = epochs\n",
    "        self.w = None\n",
    "        self.b = None\n",
    "        self.losses = []\n",
    "        \n",
    "    def _cost_function(self, y, y_predict):\n",
    "        n_samples = len(y)\n",
    "        cost = - (1 / n_samples) * np.sum(y * np.log(y_predict + 1e-9) + (1 - y) * np.log(1 - y_predict + 1e-9))\n",
    "        return cost\n",
    "        \n",
    "    def fit(self, X, y):\n",
    "        self.m, self.n = X.shape\n",
    "        self.w = np.zeros(self.n)\n",
    "        self.b = 0\n",
    "        \n",
    "        for epoch in range(self.epochs):\n",
    "            y_pred = self.sigmoid(self.linear_model(X))\n",
    "            # Store each loss at the current epoch\n",
    "            self.losses.append(self._cost_function(y, y_pred))\n",
    "            # Compute Gradient Descent\n",
    "            self._gradient_descent(X, y, y_pred)\n",
    "        \n",
    "        return self\n",
    "        \n",
    "    def _gradient_descent(self, X, y, y_pred):\n",
    "        m = X.shape[0]\n",
    "        dw = (1 / m) * np.dot(X.T, (y_pred - y))\n",
    "        db = (1 / m) * np.sum(y_pred - y)\n",
    "        \n",
    "        self.w -= (self.learning_rate * dw)\n",
    "        self.b -= (self.learning_rate * db)\n",
    "        \n",
    "        return self\n",
    "    \n",
    "    def linear_model(self, X):\n",
    "        return np.dot(X, self.w) + self.b\n",
    "    \n",
    "    def sigmoid(self, z):\n",
    "        # Calculate probability for logistic regression model\n",
    "        return 1 / (1 + np.exp(-z))\n",
    "    \n",
    "    def predict(self, X, threshold=0.5):\n",
    "        # Converts Probability from the sigmoid to a binary class (0 or 1)\n",
    "        y_pred = self.sigmoid(self.linear_model(X))\n",
    "        # Current Threshold = 0.5\n",
    "        return np.where(y_pred > threshold, 1, 0)"
   ]
  },
  {
   "cell_type": "markdown",
   "metadata": {},
   "source": [
    "## Main"
   ]
  },
  {
   "cell_type": "code",
   "execution_count": 4,
   "metadata": {},
   "outputs": [
    {
     "name": "stdout",
     "output_type": "stream",
     "text": [
      "Accuracy: 0.88\n"
     ]
    },
    {
     "data": {
      "image/png": "[encoded data removed]",
      "text/plain": [
       "<Figure size 640x480 with 1 Axes>"
      ]
     },
     "metadata": {},
     "output_type": "display_data"
    }
   ],
   "source": [
    "# Generate synthetic binary classification data\n",
    "X, y = make_classification(n_samples=1000, n_features=5, n_classes=2, random_state=42)\n",
    "\n",
    "# Split dataset into training and testing sets\n",
    "X_train, X_test, y_train, y_test = train_test_split(X, y, test_size=0.2, random_state=42)\n",
    "\n",
    "# Train logistic regression model\n",
    "model = LogisticRegression(learning_rate=0.1, epochs=1000)\n",
    "model.fit(X_train, y_train)\n",
    "\n",
    "# Make predictions on test set\n",
    "y_pred = model.predict(X_test)\n",
    "\n",
    "# Evaluate accuracy\n",
    "accuracy = accuracy_score(y_test, y_pred)\n",
    "print(\"Accuracy:\", accuracy)\n",
    "\n",
    "# Plot the loss over epochs (optional)\n",
    "import matplotlib.pyplot as plt\n",
    "\n",
    "plt.plot(range(len(model.losses)), model.losses)\n",
    "plt.xlabel(\"Epochs\")\n",
    "plt.ylabel(\"Loss\")\n",
    "plt.title(\"Loss Reduction Over Time\")\n",
    "plt.show()"
   ]
  },
  {
   "cell_type": "markdown",
   "metadata": {},
   "source": [
    "## Challenge"
   ]
  },
  {
   "cell_type": "markdown",
   "metadata": {},
   "source": [
    "### Model Accuracy"
   ]
  },
  {
   "cell_type": "code",
   "execution_count": null,
   "metadata": {},
   "outputs": [],
   "source": []
  },
  {
   "cell_type": "markdown",
   "metadata": {},
   "source": [
    "### Confusion Matrix"
   ]
  },
  {
   "cell_type": "code",
   "execution_count": null,
   "metadata": {},
   "outputs": [],
   "source": []
  }
 ],
 "metadata": {
  "kernelspec": {
   "display_name": "ds_projects",
   "language": "python",
   "name": "python3"
  },
  "language_info": {
   "codemirror_mode": {
    "name": "ipython",
    "version": 3
   },
   "file_extension": ".py",
   "mimetype": "text/x-python",
   "name": "python",
   "nbconvert_exporter": "python",
   "pygments_lexer": "ipython3",
   "version": "3.12.8"
  }
 },
 "nbformat": 4,
 "nbformat_minor": 2
}
